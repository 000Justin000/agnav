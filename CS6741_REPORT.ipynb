{
 "cells": [
  {
   "cell_type": "code",
   "execution_count": 1,
   "metadata": {},
   "outputs": [],
   "source": [
    "import warnings\n",
    "import os\n",
    "import sys\n",
    "import numpy as np\n",
    "import torch\n",
    "import torch.nn as nn\n",
    "import torch.nn.functional as F\n",
    "import torch.optim as optim\n",
    "import math, copy, time\n",
    "import pandas as pd\n",
    "import matplotlib.pyplot as plt\n",
    "import logging\n",
    "from transformers import AutoTokenizer\n",
    "from torch.nn.utils.rnn import pack_padded_sequence, pad_packed_sequence\n",
    "from utils import *\n",
    "from main import *\n",
    "from IPython.core.debugger import set_trace\n",
    "\n",
    "logging.disable(logging.WARNING)\n",
    "os.environ['KMP_DUPLICATE_LIB_OK'] = 'True'\n",
    "\n",
    "# we will use CUDA if it is available\n",
    "USE_CUDA = torch.cuda.is_available()\n",
    "DEVICE = torch.device('cuda:0') if USE_CUDA else torch.device(\"cpu\")\n",
    "\n",
    "# set random seed\n",
    "seed = 666\n",
    "np.random.seed(seed)\n",
    "torch.manual_seed(seed)\n",
    "torch.cuda.manual_seed(seed)"
   ]
  },
  {
   "cell_type": "code",
   "execution_count": 2,
   "metadata": {},
   "outputs": [],
   "source": [
    "entity_token = \"[ETY]\"\n",
    "tokenizer = AutoTokenizer.from_pretrained(\"bert-base-uncased\", additional_special_tokens=[entity_token])\n",
    "\n",
    "G = read_MetaQA_KG()\n",
    "\n",
    "qa_train_1h, qa_dev_1h, qa_test_1h = read_MetaQA_Instances(\"1-hop\", entity_token, DEVICE)\n",
    "qa_train_2h, qa_dev_2h, qa_test_2h = read_MetaQA_Instances(\"2-hop\", entity_token, DEVICE)\n",
    "qa_train_3h, qa_dev_3h, qa_test_3h = read_MetaQA_Instances(\"3-hop\", entity_token, DEVICE)\n",
    "\n",
    "qa_train = pd.concat([qa_train_1h, qa_train_2h, qa_train_3h])\n",
    "qa_dev   = pd.concat([  qa_dev_1h,   qa_dev_2h,   qa_dev_3h])\n",
    "qa_test  = pd.concat([ qa_test_1h,  qa_test_2h,  qa_test_3h])"
   ]
  },
  {
   "cell_type": "code",
   "execution_count": 3,
   "metadata": {},
   "outputs": [],
   "source": [
    "possible_actions = [\"[PAD]\", \"[SOS]\"] + sorted(list(set([edge[2][\"type\"] for edge in G.edges(data=True)]))) + [\"terminate\"]\n",
    "action_to_ix = dict(map(reversed, enumerate(possible_actions)))"
   ]
  },
  {
   "cell_type": "code",
   "execution_count": 6,
   "metadata": {},
   "outputs": [
    {
     "data": {
      "text/plain": [
       "<All keys matched successfully>"
      ]
     },
     "execution_count": 6,
     "metadata": {},
     "output_type": "execute_result"
    }
   ],
   "source": [
    "emb_size = 256\n",
    "hidden_size = 256\n",
    "num_layers = 1\n",
    "\n",
    "model = make_model(len(tokenizer), len(possible_actions), emb_size=emb_size, hidden_size=hidden_size, num_layers=num_layers, dropout=0.2).to(DEVICE)\n",
    "model.load_state_dict(torch.load(\"checkpoints/e256_h256_l01_g090_k010_m2000000/save@2000000.pt\")[\"model\"])"
   ]
  },
  {
   "cell_type": "code",
   "execution_count": 84,
   "metadata": {},
   "outputs": [],
   "source": [
    "def simulate_episode(G, qa_instance, tokenizer, model, action_to_ix, max_len, epsilon, verbose=False):\n",
    "\n",
    "    question, decorated_entity, answer_set = qa_instance\n",
    "    tokenized_inputs = tokenizer(question, max_length=50, padding=True, truncation=True, return_tensors=\"pt\")\n",
    "    src, src_mask = tokenized_inputs[\"input_ids\"].to(DEVICE), tokenized_inputs[\"attention_mask\"].unsqueeze(-2).to(DEVICE)\n",
    "    assert decorated_entity in G.nodes\n",
    "    kgnode = decorated_entity\n",
    "\n",
    "    if verbose:\n",
    "        print(question)\n",
    "        print(kgnode)\n",
    "\n",
    "    kgnode_chain = []\n",
    "    action_chain = []\n",
    "    reward_chain = []\n",
    "    \n",
    "    attn_probs_chain = []\n",
    "    \n",
    "    encoder_hidden, encoder_final = model.encode(src, src_mask, [src_mask.sum().item()])\n",
    "\n",
    "    # pre-compute projected encoder hidden states\n",
    "    # (the \"keys\" for the attention mechanism)\n",
    "    # this is only done for efficiency\n",
    "    proj_key = model.decoder.attention.key_layer(encoder_hidden)\n",
    "\n",
    "    # initialize decoder hidden state\n",
    "    hidden_init = model.decoder.init_hidden(encoder_final)\n",
    "    sos_embed = model.trg_embed(torch.tensor([action_to_ix[\"[SOS]\"]], device=DEVICE)).unsqueeze(1)\n",
    "    _, hidden, context, attn_probs = model.decoder.forward_step(sos_embed, encoder_hidden, src_mask, proj_key, hidden_init)\n",
    "\n",
    "    for t in range(max_len):\n",
    "        # compute the action value functions for available actions at the current node\n",
    "        actions = unique([info[\"type\"] for (_, _, info) in G.edges(kgnode, data=True)]) + [\"terminate\"]\n",
    "        values = model.evaluator(context)[0, 0, [action_to_ix[action] for action in actions]]\n",
    "\n",
    "        # select the action at the current time step with epsilon-greedy policy\n",
    "        if random.random() < epsilon:\n",
    "            action = random.choice(actions)\n",
    "        else:\n",
    "            action = actions[values.argmax()]\n",
    "\n",
    "        # take the action\n",
    "        if (action == \"terminate\") or (t == max_len-1):\n",
    "            reward = torch.tensor(1.0 if ((action == \"terminate\") and (re.match(r\".+: (.+)\", kgnode).group(1) in answer_set)) else 0.0).to(DEVICE)\n",
    "            kgnode_next = \"termination\"\n",
    "            hidden_next = None\n",
    "            context_next = None\n",
    "        else:\n",
    "            reward = torch.tensor(0.0).to(DEVICE)\n",
    "            kgnode_next = random.choice(list(filter(lambda tp: tp[2][\"type\"] == action, G.edges(kgnode, data=True))))[1]\n",
    "            action_embed = model.trg_embed(torch.tensor([action_to_ix[action]], device=DEVICE)).unsqueeze(1)\n",
    "            _, hidden_next, context_next, attn_probs = model.decoder.forward_step(action_embed, encoder_hidden, src_mask, proj_key, hidden)\n",
    "\n",
    "        kgnode_chain.append(kgnode)\n",
    "        action_chain.append(action)\n",
    "        reward_chain.append(reward)\n",
    "        \n",
    "        attn_probs_chain.append(attn_probs.reshape(-1).tolist())\n",
    "\n",
    "        if verbose:\n",
    "            print(actions)\n",
    "            print(values.data.reshape(-1).to(\"cpu\"))\n",
    "            print(action, \"  =====>  \", kgnode_next)\n",
    "\n",
    "        if kgnode_next == \"termination\":\n",
    "            break\n",
    "        else:\n",
    "            kgnode = kgnode_next\n",
    "            hidden = hidden_next\n",
    "            context = context_next\n",
    "\n",
    "    return kgnode_chain, action_chain, reward_chain, attn_probs_chain"
   ]
  },
  {
   "cell_type": "code",
   "execution_count": 85,
   "metadata": {},
   "outputs": [],
   "source": [
    "def lookup_words(x, vocab=None):\n",
    "    if vocab is not None:\n",
    "        x = [vocab.itos[i] for i in x]\n",
    "\n",
    "    return [str(t) for t in x]"
   ]
  },
  {
   "cell_type": "code",
   "execution_count": 86,
   "metadata": {},
   "outputs": [],
   "source": [
    "def plot_heatmap(src, trg, scores):\n",
    "\n",
    "    fig, ax = plt.subplots()\n",
    "    heatmap = ax.pcolor(scores, cmap='viridis')\n",
    "\n",
    "    ax.set_xticklabels(trg, minor=False, rotation='vertical')\n",
    "    ax.set_yticklabels(src, minor=False)\n",
    "\n",
    "    # put the major ticks at the middle of each cell\n",
    "    # and the x-ticks on top\n",
    "    ax.xaxis.tick_top()\n",
    "    ax.set_xticks(np.arange(scores.shape[1]) + 0.5, minor=False)\n",
    "    ax.set_yticks(np.arange(scores.shape[0]) + 0.5, minor=False)\n",
    "    ax.invert_yaxis()\n",
    "\n",
    "    plt.colorbar(heatmap)\n",
    "    plt.show()"
   ]
  },
  {
   "cell_type": "code",
   "execution_count": 97,
   "metadata": {},
   "outputs": [
    {
     "name": "stdout",
     "output_type": "stream",
     "text": [
      "who starred films for the director of [ETY]\n",
      "movie: Houdini\n",
      "['fwd_directed_by', 'fwd_release_year', 'fwd_written_by', 'terminate']\n",
      "tensor([ 0.5897, -0.0768,  0.2001,  0.0849])\n",
      "fwd_directed_by   =====>   director: George Marshall\n",
      "['rvs_directed_by', 'terminate']\n",
      "tensor([ 0.5442, -0.0218])\n",
      "rvs_directed_by   =====>   movie: A Millionaire for Christy\n",
      "['fwd_directed_by', 'fwd_has_genre', 'fwd_release_year', 'fwd_starred_actors', 'terminate']\n",
      "tensor([ 0.0636, -0.0589,  0.0508,  0.4717, -0.0446])\n",
      "fwd_starred_actors   =====>   actor: Fred MacMurray\n",
      "['rvs_starred_actors', 'terminate']\n",
      "tensor([0.1161, 0.6495])\n",
      "terminate   =====>   termination\n",
      "success\n"
     ]
    }
   ],
   "source": [
    "qa_instance = qa_train_3h[20]\n",
    "kgnode_chain, action_chain, reward_chain, attn_probs_chain = simulate_episode(G, qa_instance, tokenizer, model, action_to_ix, 4, 0, verbose=True)\n",
    "src_text = tokenizer.convert_ids_to_tokens(tokenizer(qa_instance.question).input_ids)\n",
    "print(\"success\" if reward_chain[-1] == 1.0 else \"failure\")"
   ]
  },
  {
   "cell_type": "code",
   "execution_count": 98,
   "metadata": {},
   "outputs": [
    {
     "name": "stderr",
     "output_type": "stream",
     "text": [
      "<ipython-input-86-28e278b2a524>:6: UserWarning: FixedFormatter should only be used together with FixedLocator\n",
      "  ax.set_xticklabels(trg, minor=False, rotation='vertical')\n",
      "<ipython-input-86-28e278b2a524>:7: UserWarning: FixedFormatter should only be used together with FixedLocator\n",
      "  ax.set_yticklabels(src, minor=False)\n"
     ]
    },
    {
     "data": {
      "image/png": "[encoded data removed]",
      "text/plain": [
       "<Figure size 432x288 with 2 Axes>"
      ]
     },
     "metadata": {
      "needs_background": "light"
     },
     "output_type": "display_data"
    }
   ],
   "source": [
    "plot_heatmap(src_text, action_chain, np.array(attn_probs_chain).T)"
   ]
  },
  {
   "cell_type": "code",
   "execution_count": 89,
   "metadata": {},
   "outputs": [
    {
     "data": {
      "text/plain": [
       "(15, 4)"
      ]
     },
     "execution_count": 89,
     "metadata": {},
     "output_type": "execute_result"
    }
   ],
   "source": [
    "np.array(attn_probs_chain).T.shape"
   ]
  },
  {
   "cell_type": "code",
   "execution_count": null,
   "metadata": {},
   "outputs": [],
   "source": []
  }
 ],
 "metadata": {
  "kernelspec": {
   "display_name": "nlp",
   "language": "python",
   "name": "nlp"
  },
  "language_info": {
   "codemirror_mode": {
    "name": "ipython",
    "version": 3
   },
   "file_extension": ".py",
   "mimetype": "text/x-python",
   "name": "python",
   "nbconvert_exporter": "python",
   "pygments_lexer": "ipython3",
   "version": "3.8.5"
  }
 },
 "nbformat": 4,
 "nbformat_minor": 4
}
